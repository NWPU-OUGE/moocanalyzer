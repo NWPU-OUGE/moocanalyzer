{
 "cells": [
  {
   "cell_type": "markdown",
   "id": "acc57962-423e-47c0-8f3c-26c6c4afc7ea",
   "metadata": {},
   "source": [
    "## 猜词游戏 2-1\n",
    "\n"
   ]
  },
  {
   "cell_type": "markdown",
   "id": "8bfecb05-8c1d-47f1-b900-3e6c0259fb39",
   "metadata": {},
   "source": []
  },
  {
   "cell_type": "code",
   "execution_count": 3,
   "id": "a832fea0-2f92-4e62-9667-51acd6c8b999",
   "metadata": {},
   "outputs": [],
   "source": [
    "## 导入会使用到的库\n",
    "%config InlineBackend.figure_format = 'retina'\n",
    "%matplotlib inline    \n",
    "import seaborn as sns \n",
    "sns.set(font= \"simsun\",style=\"whitegrid\",font_scale=1.6)\n",
    "import matplotlib\n",
    "matplotlib.rcParams['axes.unicode_minus']=False # 解决坐标轴的负号显示问题\n",
    "## 导入需要的库\n",
    "import numpy as np\n",
    "import pandas as pd\n",
    "import matplotlib.pyplot as plt\n",
    "from plotnine import *\n",
    "\n",
    "from sklearn.preprocessing import LabelEncoder\n",
    "from sklearn.model_selection import  train_test_split\n",
    "from sklearn.ensemble import *\n",
    "from sklearn.tree import *\n",
    "from sklearn.metrics import *\n",
    "from io import StringIO\n",
    "from sklearn.svm import SVR\n",
    "from sklearn.neural_network import MLPRegressor\n",
    "import nltk\n",
    "\n",
    "import graphviz\n",
    "import pydotplus\n",
    "from IPython.display import Image  \n",
    "\n",
    "## 忽略提醒\n",
    "import warnings\n",
    "warnings.filterwarnings(\"ignore\")"
   ]
  },
  {
   "cell_type": "markdown",
   "id": "653494e8-787b-4677-a78c-f9d5178c4e23",
   "metadata": {},
   "source": [
    "## 主要对第二问进行建模与分析\n",
    "\n",
    "问题2：预测未来日期 (1, 2, 3, 4, 5, 6, X) 的相关百分比。举一个你对2023年3月1日EERIE这个词的预测的具体例子。你对你的模型的预测有多自信？\n",
    "\n",
    "也可以考虑使用时间序列模型进行数值的预测，但是一元的时间序列模型进行预测，并不能使用到字母的情况。因此下面不再解释使用时间序列进行分别预测，时间序列的预测程序可以参考分析1，作数据替换即可得到相应的分析结果。"
   ]
  },
  {
   "cell_type": "markdown",
   "id": "ffd1b743-9ac7-47b5-8deb-63fc0d2d0490",
   "metadata": {},
   "source": [
    "### 思路：针对每个(1, 2, 3, 4, 5, 6, X) 的相关百分比，分别建立模型进行预测。\n",
    "\n",
    "主要建立每个单词的出现次序对(1, 2, 3, 4, 5, 6, X) 的相关百分比的影响情况。\n",
    "\n",
    "#### 首先以 1 为例进行建模与分析"
   ]
  },
  {
   "cell_type": "markdown",
   "id": "0faeff56-9ebd-4333-aa7a-5262ecd819b6",
   "metadata": {},
   "source": [
    "### 数据准备"
   ]
  },
  {
   "cell_type": "code",
   "execution_count": null,
   "id": "0e8a6945-9995-48ca-a082-61acd4ef50f4",
   "metadata": {},
   "outputs": [],
   "source": []
  },
  {
   "cell_type": "code",
   "execution_count": 4,
   "id": "42beafe7-9b7f-4bd5-9235-d48d3d79789c",
   "metadata": {},
   "outputs": [
    {
     "data": {
      "text/html": [
       "<div>\n",
       "<style scoped>\n",
       "    .dataframe tbody tr th:only-of-type {\n",
       "        vertical-align: middle;\n",
       "    }\n",
       "\n",
       "    .dataframe tbody tr th {\n",
       "        vertical-align: top;\n",
       "    }\n",
       "\n",
       "    .dataframe thead th {\n",
       "        text-align: right;\n",
       "    }\n",
       "</style>\n",
       "<table border=\"1\" class=\"dataframe\">\n",
       "  <thead>\n",
       "    <tr style=\"text-align: right;\">\n",
       "      <th></th>\n",
       "      <th>Date</th>\n",
       "      <th>Contest_number</th>\n",
       "      <th>Word</th>\n",
       "      <th>Number_of_reported_results</th>\n",
       "      <th>Number_in_hard_mode</th>\n",
       "      <th>tries1</th>\n",
       "      <th>tries2</th>\n",
       "      <th>tries3</th>\n",
       "      <th>tries4</th>\n",
       "      <th>tries5</th>\n",
       "      <th>tries6</th>\n",
       "      <th>triesX</th>\n",
       "      <th>word1</th>\n",
       "      <th>word2</th>\n",
       "      <th>word3</th>\n",
       "      <th>word4</th>\n",
       "      <th>word5</th>\n",
       "      <th>Tag</th>\n",
       "    </tr>\n",
       "  </thead>\n",
       "  <tbody>\n",
       "    <tr>\n",
       "      <th>0</th>\n",
       "      <td>2022-01-07</td>\n",
       "      <td>202</td>\n",
       "      <td>slump</td>\n",
       "      <td>80630</td>\n",
       "      <td>1362</td>\n",
       "      <td>1</td>\n",
       "      <td>3</td>\n",
       "      <td>23</td>\n",
       "      <td>39</td>\n",
       "      <td>24</td>\n",
       "      <td>9</td>\n",
       "      <td>1</td>\n",
       "      <td>s</td>\n",
       "      <td>l</td>\n",
       "      <td>u</td>\n",
       "      <td>m</td>\n",
       "      <td>p</td>\n",
       "      <td>NN</td>\n",
       "    </tr>\n",
       "    <tr>\n",
       "      <th>1</th>\n",
       "      <td>2022-01-08</td>\n",
       "      <td>203</td>\n",
       "      <td>crank</td>\n",
       "      <td>101503</td>\n",
       "      <td>1763</td>\n",
       "      <td>1</td>\n",
       "      <td>5</td>\n",
       "      <td>23</td>\n",
       "      <td>31</td>\n",
       "      <td>24</td>\n",
       "      <td>14</td>\n",
       "      <td>2</td>\n",
       "      <td>c</td>\n",
       "      <td>r</td>\n",
       "      <td>a</td>\n",
       "      <td>n</td>\n",
       "      <td>k</td>\n",
       "      <td>NN</td>\n",
       "    </tr>\n",
       "    <tr>\n",
       "      <th>2</th>\n",
       "      <td>2022-01-09</td>\n",
       "      <td>204</td>\n",
       "      <td>gorge</td>\n",
       "      <td>91477</td>\n",
       "      <td>1913</td>\n",
       "      <td>1</td>\n",
       "      <td>3</td>\n",
       "      <td>13</td>\n",
       "      <td>27</td>\n",
       "      <td>30</td>\n",
       "      <td>22</td>\n",
       "      <td>4</td>\n",
       "      <td>g</td>\n",
       "      <td>o</td>\n",
       "      <td>r</td>\n",
       "      <td>g</td>\n",
       "      <td>e</td>\n",
       "      <td>NN</td>\n",
       "    </tr>\n",
       "    <tr>\n",
       "      <th>3</th>\n",
       "      <td>2022-01-10</td>\n",
       "      <td>205</td>\n",
       "      <td>query</td>\n",
       "      <td>107134</td>\n",
       "      <td>2242</td>\n",
       "      <td>1</td>\n",
       "      <td>4</td>\n",
       "      <td>16</td>\n",
       "      <td>30</td>\n",
       "      <td>30</td>\n",
       "      <td>17</td>\n",
       "      <td>2</td>\n",
       "      <td>q</td>\n",
       "      <td>u</td>\n",
       "      <td>e</td>\n",
       "      <td>r</td>\n",
       "      <td>y</td>\n",
       "      <td>JJ</td>\n",
       "    </tr>\n",
       "    <tr>\n",
       "      <th>4</th>\n",
       "      <td>2022-01-11</td>\n",
       "      <td>206</td>\n",
       "      <td>drink</td>\n",
       "      <td>153880</td>\n",
       "      <td>3017</td>\n",
       "      <td>1</td>\n",
       "      <td>9</td>\n",
       "      <td>35</td>\n",
       "      <td>34</td>\n",
       "      <td>16</td>\n",
       "      <td>5</td>\n",
       "      <td>1</td>\n",
       "      <td>d</td>\n",
       "      <td>r</td>\n",
       "      <td>i</td>\n",
       "      <td>n</td>\n",
       "      <td>k</td>\n",
       "      <td>VB</td>\n",
       "    </tr>\n",
       "    <tr>\n",
       "      <th>...</th>\n",
       "      <td>...</td>\n",
       "      <td>...</td>\n",
       "      <td>...</td>\n",
       "      <td>...</td>\n",
       "      <td>...</td>\n",
       "      <td>...</td>\n",
       "      <td>...</td>\n",
       "      <td>...</td>\n",
       "      <td>...</td>\n",
       "      <td>...</td>\n",
       "      <td>...</td>\n",
       "      <td>...</td>\n",
       "      <td>...</td>\n",
       "      <td>...</td>\n",
       "      <td>...</td>\n",
       "      <td>...</td>\n",
       "      <td>...</td>\n",
       "      <td>...</td>\n",
       "    </tr>\n",
       "    <tr>\n",
       "      <th>354</th>\n",
       "      <td>2022-12-27</td>\n",
       "      <td>556</td>\n",
       "      <td>condo</td>\n",
       "      <td>20879</td>\n",
       "      <td>2012</td>\n",
       "      <td>0</td>\n",
       "      <td>2</td>\n",
       "      <td>17</td>\n",
       "      <td>35</td>\n",
       "      <td>29</td>\n",
       "      <td>14</td>\n",
       "      <td>3</td>\n",
       "      <td>c</td>\n",
       "      <td>o</td>\n",
       "      <td>n</td>\n",
       "      <td>d</td>\n",
       "      <td>o</td>\n",
       "      <td>NN</td>\n",
       "    </tr>\n",
       "    <tr>\n",
       "      <th>355</th>\n",
       "      <td>2022-12-28</td>\n",
       "      <td>557</td>\n",
       "      <td>impel</td>\n",
       "      <td>20160</td>\n",
       "      <td>1937</td>\n",
       "      <td>0</td>\n",
       "      <td>3</td>\n",
       "      <td>21</td>\n",
       "      <td>40</td>\n",
       "      <td>25</td>\n",
       "      <td>9</td>\n",
       "      <td>1</td>\n",
       "      <td>i</td>\n",
       "      <td>m</td>\n",
       "      <td>p</td>\n",
       "      <td>e</td>\n",
       "      <td>l</td>\n",
       "      <td>NN</td>\n",
       "    </tr>\n",
       "    <tr>\n",
       "      <th>356</th>\n",
       "      <td>2022-12-29</td>\n",
       "      <td>558</td>\n",
       "      <td>havoc</td>\n",
       "      <td>20001</td>\n",
       "      <td>1919</td>\n",
       "      <td>0</td>\n",
       "      <td>2</td>\n",
       "      <td>16</td>\n",
       "      <td>38</td>\n",
       "      <td>30</td>\n",
       "      <td>12</td>\n",
       "      <td>2</td>\n",
       "      <td>h</td>\n",
       "      <td>a</td>\n",
       "      <td>v</td>\n",
       "      <td>o</td>\n",
       "      <td>c</td>\n",
       "      <td>NN</td>\n",
       "    </tr>\n",
       "    <tr>\n",
       "      <th>357</th>\n",
       "      <td>2022-12-30</td>\n",
       "      <td>559</td>\n",
       "      <td>molar</td>\n",
       "      <td>21204</td>\n",
       "      <td>1973</td>\n",
       "      <td>0</td>\n",
       "      <td>4</td>\n",
       "      <td>21</td>\n",
       "      <td>38</td>\n",
       "      <td>26</td>\n",
       "      <td>9</td>\n",
       "      <td>1</td>\n",
       "      <td>m</td>\n",
       "      <td>o</td>\n",
       "      <td>l</td>\n",
       "      <td>a</td>\n",
       "      <td>r</td>\n",
       "      <td>JJ</td>\n",
       "    </tr>\n",
       "    <tr>\n",
       "      <th>358</th>\n",
       "      <td>2022-12-31</td>\n",
       "      <td>560</td>\n",
       "      <td>manly</td>\n",
       "      <td>20380</td>\n",
       "      <td>1899</td>\n",
       "      <td>0</td>\n",
       "      <td>2</td>\n",
       "      <td>17</td>\n",
       "      <td>37</td>\n",
       "      <td>29</td>\n",
       "      <td>12</td>\n",
       "      <td>2</td>\n",
       "      <td>m</td>\n",
       "      <td>a</td>\n",
       "      <td>n</td>\n",
       "      <td>l</td>\n",
       "      <td>y</td>\n",
       "      <td>RB</td>\n",
       "    </tr>\n",
       "  </tbody>\n",
       "</table>\n",
       "<p>359 rows × 18 columns</p>\n",
       "</div>"
      ],
      "text/plain": [
       "          Date  Contest_number   Word  Number_of_reported_results  \\\n",
       "0   2022-01-07             202  slump                       80630   \n",
       "1   2022-01-08             203  crank                      101503   \n",
       "2   2022-01-09             204  gorge                       91477   \n",
       "3   2022-01-10             205  query                      107134   \n",
       "4   2022-01-11             206  drink                      153880   \n",
       "..         ...             ...    ...                         ...   \n",
       "354 2022-12-27             556  condo                       20879   \n",
       "355 2022-12-28             557  impel                       20160   \n",
       "356 2022-12-29             558  havoc                       20001   \n",
       "357 2022-12-30             559  molar                       21204   \n",
       "358 2022-12-31             560  manly                       20380   \n",
       "\n",
       "     Number_in_hard_mode  tries1  tries2  tries3  tries4  tries5  tries6  \\\n",
       "0                   1362       1       3      23      39      24       9   \n",
       "1                   1763       1       5      23      31      24      14   \n",
       "2                   1913       1       3      13      27      30      22   \n",
       "3                   2242       1       4      16      30      30      17   \n",
       "4                   3017       1       9      35      34      16       5   \n",
       "..                   ...     ...     ...     ...     ...     ...     ...   \n",
       "354                 2012       0       2      17      35      29      14   \n",
       "355                 1937       0       3      21      40      25       9   \n",
       "356                 1919       0       2      16      38      30      12   \n",
       "357                 1973       0       4      21      38      26       9   \n",
       "358                 1899       0       2      17      37      29      12   \n",
       "\n",
       "     triesX word1 word2 word3 word4 word5 Tag  \n",
       "0         1     s     l     u     m     p  NN  \n",
       "1         2     c     r     a     n     k  NN  \n",
       "2         4     g     o     r     g     e  NN  \n",
       "3         2     q     u     e     r     y  JJ  \n",
       "4         1     d     r     i     n     k  VB  \n",
       "..      ...   ...   ...   ...   ...   ...  ..  \n",
       "354       3     c     o     n     d     o  NN  \n",
       "355       1     i     m     p     e     l  NN  \n",
       "356       2     h     a     v     o     c  NN  \n",
       "357       1     m     o     l     a     r  JJ  \n",
       "358       2     m     a     n     l     y  RB  \n",
       "\n",
       "[359 rows x 18 columns]"
      ]
     },
     "execution_count": 4,
     "metadata": {},
     "output_type": "execute_result"
    }
   ],
   "source": [
    "## 数据保存\n",
    "df = pd.read_excel(\"Problem_C_Data_Wordle_clean_all.xlsx\",date_parser=[\"Date\"])\n",
    "df = df.sort_values(by = \"Date\").reset_index(drop = True)\n",
    "df"
   ]
  },
  {
   "cell_type": "code",
   "execution_count": 5,
   "id": "298d4fe5-929a-4ed8-a131-f149116bf643",
   "metadata": {},
   "outputs": [
    {
     "data": {
      "text/plain": [
       "Index(['Date', 'Contest_number', 'Word', 'Number_of_reported_results',\n",
       "       'Number_in_hard_mode', 'tries1', 'tries2', 'tries3', 'tries4', 'tries5',\n",
       "       'tries6', 'triesX', 'word1', 'word2', 'word3', 'word4', 'word5', 'Tag'],\n",
       "      dtype='object')"
      ]
     },
     "execution_count": 5,
     "metadata": {},
     "output_type": "execute_result"
    }
   ],
   "source": [
    "df.columns"
   ]
  },
  {
   "cell_type": "code",
   "execution_count": null,
   "id": "4447ce33-99e9-4489-b523-5206ce7947a4",
   "metadata": {},
   "outputs": [],
   "source": []
  },
  {
   "cell_type": "code",
   "execution_count": 6,
   "id": "26195e2e-55b2-4fa9-8e46-63c071c78c6d",
   "metadata": {},
   "outputs": [
    {
     "data": {
      "text/html": [
       "<div>\n",
       "<style scoped>\n",
       "    .dataframe tbody tr th:only-of-type {\n",
       "        vertical-align: middle;\n",
       "    }\n",
       "\n",
       "    .dataframe tbody tr th {\n",
       "        vertical-align: top;\n",
       "    }\n",
       "\n",
       "    .dataframe thead th {\n",
       "        text-align: right;\n",
       "    }\n",
       "</style>\n",
       "<table border=\"1\" class=\"dataframe\">\n",
       "  <thead>\n",
       "    <tr style=\"text-align: right;\">\n",
       "      <th></th>\n",
       "      <th>tries1</th>\n",
       "      <th>word1</th>\n",
       "      <th>word2</th>\n",
       "      <th>word3</th>\n",
       "      <th>word4</th>\n",
       "      <th>word5</th>\n",
       "      <th>Tag</th>\n",
       "      <th>month</th>\n",
       "      <th>day</th>\n",
       "    </tr>\n",
       "  </thead>\n",
       "  <tbody>\n",
       "    <tr>\n",
       "      <th>0</th>\n",
       "      <td>1</td>\n",
       "      <td>s</td>\n",
       "      <td>l</td>\n",
       "      <td>u</td>\n",
       "      <td>m</td>\n",
       "      <td>p</td>\n",
       "      <td>NN</td>\n",
       "      <td>1</td>\n",
       "      <td>7</td>\n",
       "    </tr>\n",
       "    <tr>\n",
       "      <th>1</th>\n",
       "      <td>1</td>\n",
       "      <td>c</td>\n",
       "      <td>r</td>\n",
       "      <td>a</td>\n",
       "      <td>n</td>\n",
       "      <td>k</td>\n",
       "      <td>NN</td>\n",
       "      <td>1</td>\n",
       "      <td>8</td>\n",
       "    </tr>\n",
       "    <tr>\n",
       "      <th>2</th>\n",
       "      <td>1</td>\n",
       "      <td>g</td>\n",
       "      <td>o</td>\n",
       "      <td>r</td>\n",
       "      <td>g</td>\n",
       "      <td>e</td>\n",
       "      <td>NN</td>\n",
       "      <td>1</td>\n",
       "      <td>9</td>\n",
       "    </tr>\n",
       "    <tr>\n",
       "      <th>3</th>\n",
       "      <td>1</td>\n",
       "      <td>q</td>\n",
       "      <td>u</td>\n",
       "      <td>e</td>\n",
       "      <td>r</td>\n",
       "      <td>y</td>\n",
       "      <td>JJ</td>\n",
       "      <td>1</td>\n",
       "      <td>10</td>\n",
       "    </tr>\n",
       "    <tr>\n",
       "      <th>4</th>\n",
       "      <td>1</td>\n",
       "      <td>d</td>\n",
       "      <td>r</td>\n",
       "      <td>i</td>\n",
       "      <td>n</td>\n",
       "      <td>k</td>\n",
       "      <td>Other</td>\n",
       "      <td>1</td>\n",
       "      <td>11</td>\n",
       "    </tr>\n",
       "    <tr>\n",
       "      <th>...</th>\n",
       "      <td>...</td>\n",
       "      <td>...</td>\n",
       "      <td>...</td>\n",
       "      <td>...</td>\n",
       "      <td>...</td>\n",
       "      <td>...</td>\n",
       "      <td>...</td>\n",
       "      <td>...</td>\n",
       "      <td>...</td>\n",
       "    </tr>\n",
       "    <tr>\n",
       "      <th>354</th>\n",
       "      <td>0</td>\n",
       "      <td>c</td>\n",
       "      <td>o</td>\n",
       "      <td>n</td>\n",
       "      <td>d</td>\n",
       "      <td>o</td>\n",
       "      <td>NN</td>\n",
       "      <td>12</td>\n",
       "      <td>27</td>\n",
       "    </tr>\n",
       "    <tr>\n",
       "      <th>355</th>\n",
       "      <td>0</td>\n",
       "      <td>i</td>\n",
       "      <td>m</td>\n",
       "      <td>p</td>\n",
       "      <td>e</td>\n",
       "      <td>l</td>\n",
       "      <td>NN</td>\n",
       "      <td>12</td>\n",
       "      <td>28</td>\n",
       "    </tr>\n",
       "    <tr>\n",
       "      <th>356</th>\n",
       "      <td>0</td>\n",
       "      <td>h</td>\n",
       "      <td>a</td>\n",
       "      <td>v</td>\n",
       "      <td>o</td>\n",
       "      <td>c</td>\n",
       "      <td>NN</td>\n",
       "      <td>12</td>\n",
       "      <td>29</td>\n",
       "    </tr>\n",
       "    <tr>\n",
       "      <th>357</th>\n",
       "      <td>0</td>\n",
       "      <td>m</td>\n",
       "      <td>o</td>\n",
       "      <td>l</td>\n",
       "      <td>a</td>\n",
       "      <td>r</td>\n",
       "      <td>JJ</td>\n",
       "      <td>12</td>\n",
       "      <td>30</td>\n",
       "    </tr>\n",
       "    <tr>\n",
       "      <th>358</th>\n",
       "      <td>0</td>\n",
       "      <td>m</td>\n",
       "      <td>a</td>\n",
       "      <td>n</td>\n",
       "      <td>l</td>\n",
       "      <td>y</td>\n",
       "      <td>Other</td>\n",
       "      <td>12</td>\n",
       "      <td>31</td>\n",
       "    </tr>\n",
       "  </tbody>\n",
       "</table>\n",
       "<p>359 rows × 9 columns</p>\n",
       "</div>"
      ],
      "text/plain": [
       "     tries1 word1 word2 word3 word4 word5    Tag  month  day\n",
       "0         1     s     l     u     m     p     NN      1    7\n",
       "1         1     c     r     a     n     k     NN      1    8\n",
       "2         1     g     o     r     g     e     NN      1    9\n",
       "3         1     q     u     e     r     y     JJ      1   10\n",
       "4         1     d     r     i     n     k  Other      1   11\n",
       "..      ...   ...   ...   ...   ...   ...    ...    ...  ...\n",
       "354       0     c     o     n     d     o     NN     12   27\n",
       "355       0     i     m     p     e     l     NN     12   28\n",
       "356       0     h     a     v     o     c     NN     12   29\n",
       "357       0     m     o     l     a     r     JJ     12   30\n",
       "358       0     m     a     n     l     y  Other     12   31\n",
       "\n",
       "[359 rows x 9 columns]"
      ]
     },
     "execution_count": 6,
     "metadata": {},
     "output_type": "execute_result"
    }
   ],
   "source": [
    "## 对数据进行特征工程预处理准备工作\n",
    "\n",
    "df2 = df[[\"tries1\",\"word1\",\"word2\",\"word3\",\"word4\",\"word5\"]]\n",
    "df2[\"Tag\"] = df[\"Tag\"]\n",
    "df2[\"Tag\"][~((df[\"Tag\"] == \"NN\") | (df[\"Tag\"] == \"JJ\"))] = \"Other\"\n",
    "## 添加月份和天特征\n",
    "df2[\"month\"] = df[\"Date\"].dt.month\n",
    "df2[\"day\"] = df[\"Date\"].dt.day\n",
    "df2"
   ]
  },
  {
   "cell_type": "code",
   "execution_count": 7,
   "id": "b67aff2b-8beb-4e38-9e17-43371f27ea58",
   "metadata": {},
   "outputs": [
    {
     "data": {
      "text/plain": [
       "<AxesSubplot:>"
      ]
     },
     "execution_count": 7,
     "metadata": {},
     "output_type": "execute_result"
    },
    {
     "name": "stderr",
     "output_type": "stream",
     "text": [
      "findfont: Font family ['simsun'] not found. Falling back to DejaVu Sans.\n"
     ]
    },
    {
     "data": {
      "image/png": "[encoded data removed]",
      "text/plain": [
       "<Figure size 1000x600 with 1 Axes>"
      ]
     },
     "metadata": {
      "image/png": {
       "height": 510,
       "width": 854
      }
     },
     "output_type": "display_data"
    }
   ],
   "source": [
    "df2[\"tries1\"].value_counts().plot(kind = \"bar\",figsize = (10,6))\n",
    "\n",
    "## 大部分的取值为0"
   ]
  },
  {
   "cell_type": "code",
   "execution_count": 8,
   "id": "0b578110-4cf8-437e-bd94-e5f0e851a0e9",
   "metadata": {},
   "outputs": [
    {
     "data": {
      "text/plain": [
       "NN       212\n",
       "JJ        76\n",
       "Other     71\n",
       "Name: Tag, dtype: int64"
      ]
     },
     "execution_count": 8,
     "metadata": {},
     "output_type": "execute_result"
    }
   ],
   "source": [
    "df2[\"Tag\"].value_counts()"
   ]
  },
  {
   "cell_type": "code",
   "execution_count": 9,
   "id": "efc27e49-359b-4a14-b41a-c6e367b99eb6",
   "metadata": {},
   "outputs": [
    {
     "data": {
      "text/html": [
       "<style>#sk-container-id-1 {color: black;background-color: white;}#sk-container-id-1 pre{padding: 0;}#sk-container-id-1 div.sk-toggleable {background-color: white;}#sk-container-id-1 label.sk-toggleable__label {cursor: pointer;display: block;width: 100%;margin-bottom: 0;padding: 0.3em;box-sizing: border-box;text-align: center;}#sk-container-id-1 label.sk-toggleable__label-arrow:before {content: \"▸\";float: left;margin-right: 0.25em;color: #696969;}#sk-container-id-1 label.sk-toggleable__label-arrow:hover:before {color: black;}#sk-container-id-1 div.sk-estimator:hover label.sk-toggleable__label-arrow:before {color: black;}#sk-container-id-1 div.sk-toggleable__content {max-height: 0;max-width: 0;overflow: hidden;text-align: left;background-color: #f0f8ff;}#sk-container-id-1 div.sk-toggleable__content pre {margin: 0.2em;color: black;border-radius: 0.25em;background-color: #f0f8ff;}#sk-container-id-1 input.sk-toggleable__control:checked~div.sk-toggleable__content {max-height: 200px;max-width: 100%;overflow: auto;}#sk-container-id-1 input.sk-toggleable__control:checked~label.sk-toggleable__label-arrow:before {content: \"▾\";}#sk-container-id-1 div.sk-estimator input.sk-toggleable__control:checked~label.sk-toggleable__label {background-color: #d4ebff;}#sk-container-id-1 div.sk-label input.sk-toggleable__control:checked~label.sk-toggleable__label {background-color: #d4ebff;}#sk-container-id-1 input.sk-hidden--visually {border: 0;clip: rect(1px 1px 1px 1px);clip: rect(1px, 1px, 1px, 1px);height: 1px;margin: -1px;overflow: hidden;padding: 0;position: absolute;width: 1px;}#sk-container-id-1 div.sk-estimator {font-family: monospace;background-color: #f0f8ff;border: 1px dotted black;border-radius: 0.25em;box-sizing: border-box;margin-bottom: 0.5em;}#sk-container-id-1 div.sk-estimator:hover {background-color: #d4ebff;}#sk-container-id-1 div.sk-parallel-item::after {content: \"\";width: 100%;border-bottom: 1px solid gray;flex-grow: 1;}#sk-container-id-1 div.sk-label:hover label.sk-toggleable__label {background-color: #d4ebff;}#sk-container-id-1 div.sk-serial::before {content: \"\";position: absolute;border-left: 1px solid gray;box-sizing: border-box;top: 0;bottom: 0;left: 50%;z-index: 0;}#sk-container-id-1 div.sk-serial {display: flex;flex-direction: column;align-items: center;background-color: white;padding-right: 0.2em;padding-left: 0.2em;position: relative;}#sk-container-id-1 div.sk-item {position: relative;z-index: 1;}#sk-container-id-1 div.sk-parallel {display: flex;align-items: stretch;justify-content: center;background-color: white;position: relative;}#sk-container-id-1 div.sk-item::before, #sk-container-id-1 div.sk-parallel-item::before {content: \"\";position: absolute;border-left: 1px solid gray;box-sizing: border-box;top: 0;bottom: 0;left: 50%;z-index: -1;}#sk-container-id-1 div.sk-parallel-item {display: flex;flex-direction: column;z-index: 1;position: relative;background-color: white;}#sk-container-id-1 div.sk-parallel-item:first-child::after {align-self: flex-end;width: 50%;}#sk-container-id-1 div.sk-parallel-item:last-child::after {align-self: flex-start;width: 50%;}#sk-container-id-1 div.sk-parallel-item:only-child::after {width: 0;}#sk-container-id-1 div.sk-dashed-wrapped {border: 1px dashed gray;margin: 0 0.4em 0.5em 0.4em;box-sizing: border-box;padding-bottom: 0.4em;background-color: white;}#sk-container-id-1 div.sk-label label {font-family: monospace;font-weight: bold;display: inline-block;line-height: 1.2em;}#sk-container-id-1 div.sk-label-container {text-align: center;}#sk-container-id-1 div.sk-container {/* jupyter's `normalize.less` sets `[hidden] { display: none; }` but bootstrap.min.css set `[hidden] { display: none !important; }` so we also need the `!important` here to be able to override the default hidden behavior on the sphinx rendered scikit-learn.org. See: https://github.com/scikit-learn/scikit-learn/issues/21755 */display: inline-block !important;position: relative;}#sk-container-id-1 div.sk-text-repr-fallback {display: none;}</style><div id=\"sk-container-id-1\" class=\"sk-top-container\"><div class=\"sk-text-repr-fallback\"><pre>LabelEncoder()</pre><b>In a Jupyter environment, please rerun this cell to show the HTML representation or trust the notebook. <br />On GitHub, the HTML representation is unable to render, please try loading this page with nbviewer.org.</b></div><div class=\"sk-container\" hidden><div class=\"sk-item\"><div class=\"sk-estimator sk-toggleable\"><input class=\"sk-toggleable__control sk-hidden--visually\" id=\"sk-estimator-id-1\" type=\"checkbox\" checked><label for=\"sk-estimator-id-1\" class=\"sk-toggleable__label sk-toggleable__label-arrow\">LabelEncoder</label><div class=\"sk-toggleable__content\"><pre>LabelEncoder()</pre></div></div></div></div></div>"
      ],
      "text/plain": [
       "LabelEncoder()"
      ]
     },
     "execution_count": 9,
     "metadata": {},
     "output_type": "execute_result"
    }
   ],
   "source": [
    "## 对字母变了进行编码\n",
    "letter = ['a','b','c','d','e','f','g','h','i','j','k','l','m','n','o',\n",
    "          'p','q','r','s','t','u','v','w','x','y','z']\n",
    "le1 = LabelEncoder()\n",
    "le1.fit(letter)\n",
    "le2 = LabelEncoder()\n",
    "le2.fit([\"NN\",\"JJ\",\"Other\"])\n",
    "le2"
   ]
  },
  {
   "cell_type": "code",
   "execution_count": null,
   "id": "7b000dd4-a238-49f4-856d-d12255fbab26",
   "metadata": {},
   "outputs": [],
   "source": []
  },
  {
   "cell_type": "code",
   "execution_count": 10,
   "id": "23381abe-146c-44be-a402-11e77922404b",
   "metadata": {},
   "outputs": [
    {
     "data": {
      "text/html": [
       "<div>\n",
       "<style scoped>\n",
       "    .dataframe tbody tr th:only-of-type {\n",
       "        vertical-align: middle;\n",
       "    }\n",
       "\n",
       "    .dataframe tbody tr th {\n",
       "        vertical-align: top;\n",
       "    }\n",
       "\n",
       "    .dataframe thead th {\n",
       "        text-align: right;\n",
       "    }\n",
       "</style>\n",
       "<table border=\"1\" class=\"dataframe\">\n",
       "  <thead>\n",
       "    <tr style=\"text-align: right;\">\n",
       "      <th></th>\n",
       "      <th>tries1</th>\n",
       "      <th>word1</th>\n",
       "      <th>word2</th>\n",
       "      <th>word3</th>\n",
       "      <th>word4</th>\n",
       "      <th>word5</th>\n",
       "      <th>Tag</th>\n",
       "      <th>month</th>\n",
       "      <th>day</th>\n",
       "    </tr>\n",
       "  </thead>\n",
       "  <tbody>\n",
       "    <tr>\n",
       "      <th>0</th>\n",
       "      <td>1</td>\n",
       "      <td>18</td>\n",
       "      <td>11</td>\n",
       "      <td>20</td>\n",
       "      <td>12</td>\n",
       "      <td>15</td>\n",
       "      <td>1</td>\n",
       "      <td>1</td>\n",
       "      <td>7</td>\n",
       "    </tr>\n",
       "    <tr>\n",
       "      <th>1</th>\n",
       "      <td>1</td>\n",
       "      <td>2</td>\n",
       "      <td>17</td>\n",
       "      <td>0</td>\n",
       "      <td>13</td>\n",
       "      <td>10</td>\n",
       "      <td>1</td>\n",
       "      <td>1</td>\n",
       "      <td>8</td>\n",
       "    </tr>\n",
       "    <tr>\n",
       "      <th>2</th>\n",
       "      <td>1</td>\n",
       "      <td>6</td>\n",
       "      <td>14</td>\n",
       "      <td>17</td>\n",
       "      <td>6</td>\n",
       "      <td>4</td>\n",
       "      <td>1</td>\n",
       "      <td>1</td>\n",
       "      <td>9</td>\n",
       "    </tr>\n",
       "    <tr>\n",
       "      <th>3</th>\n",
       "      <td>1</td>\n",
       "      <td>16</td>\n",
       "      <td>20</td>\n",
       "      <td>4</td>\n",
       "      <td>17</td>\n",
       "      <td>24</td>\n",
       "      <td>0</td>\n",
       "      <td>1</td>\n",
       "      <td>10</td>\n",
       "    </tr>\n",
       "    <tr>\n",
       "      <th>4</th>\n",
       "      <td>1</td>\n",
       "      <td>3</td>\n",
       "      <td>17</td>\n",
       "      <td>8</td>\n",
       "      <td>13</td>\n",
       "      <td>10</td>\n",
       "      <td>2</td>\n",
       "      <td>1</td>\n",
       "      <td>11</td>\n",
       "    </tr>\n",
       "    <tr>\n",
       "      <th>...</th>\n",
       "      <td>...</td>\n",
       "      <td>...</td>\n",
       "      <td>...</td>\n",
       "      <td>...</td>\n",
       "      <td>...</td>\n",
       "      <td>...</td>\n",
       "      <td>...</td>\n",
       "      <td>...</td>\n",
       "      <td>...</td>\n",
       "    </tr>\n",
       "    <tr>\n",
       "      <th>354</th>\n",
       "      <td>0</td>\n",
       "      <td>2</td>\n",
       "      <td>14</td>\n",
       "      <td>13</td>\n",
       "      <td>3</td>\n",
       "      <td>14</td>\n",
       "      <td>1</td>\n",
       "      <td>12</td>\n",
       "      <td>27</td>\n",
       "    </tr>\n",
       "    <tr>\n",
       "      <th>355</th>\n",
       "      <td>0</td>\n",
       "      <td>8</td>\n",
       "      <td>12</td>\n",
       "      <td>15</td>\n",
       "      <td>4</td>\n",
       "      <td>11</td>\n",
       "      <td>1</td>\n",
       "      <td>12</td>\n",
       "      <td>28</td>\n",
       "    </tr>\n",
       "    <tr>\n",
       "      <th>356</th>\n",
       "      <td>0</td>\n",
       "      <td>7</td>\n",
       "      <td>0</td>\n",
       "      <td>21</td>\n",
       "      <td>14</td>\n",
       "      <td>2</td>\n",
       "      <td>1</td>\n",
       "      <td>12</td>\n",
       "      <td>29</td>\n",
       "    </tr>\n",
       "    <tr>\n",
       "      <th>357</th>\n",
       "      <td>0</td>\n",
       "      <td>12</td>\n",
       "      <td>14</td>\n",
       "      <td>11</td>\n",
       "      <td>0</td>\n",
       "      <td>17</td>\n",
       "      <td>0</td>\n",
       "      <td>12</td>\n",
       "      <td>30</td>\n",
       "    </tr>\n",
       "    <tr>\n",
       "      <th>358</th>\n",
       "      <td>0</td>\n",
       "      <td>12</td>\n",
       "      <td>0</td>\n",
       "      <td>13</td>\n",
       "      <td>11</td>\n",
       "      <td>24</td>\n",
       "      <td>2</td>\n",
       "      <td>12</td>\n",
       "      <td>31</td>\n",
       "    </tr>\n",
       "  </tbody>\n",
       "</table>\n",
       "<p>359 rows × 9 columns</p>\n",
       "</div>"
      ],
      "text/plain": [
       "     tries1  word1  word2  word3  word4  word5  Tag  month  day\n",
       "0         1     18     11     20     12     15    1      1    7\n",
       "1         1      2     17      0     13     10    1      1    8\n",
       "2         1      6     14     17      6      4    1      1    9\n",
       "3         1     16     20      4     17     24    0      1   10\n",
       "4         1      3     17      8     13     10    2      1   11\n",
       "..      ...    ...    ...    ...    ...    ...  ...    ...  ...\n",
       "354       0      2     14     13      3     14    1     12   27\n",
       "355       0      8     12     15      4     11    1     12   28\n",
       "356       0      7      0     21     14      2    1     12   29\n",
       "357       0     12     14     11      0     17    0     12   30\n",
       "358       0     12      0     13     11     24    2     12   31\n",
       "\n",
       "[359 rows x 9 columns]"
      ]
     },
     "execution_count": 10,
     "metadata": {},
     "output_type": "execute_result"
    }
   ],
   "source": [
    "## 对字母进行编码\n",
    "df2[\"word1\"] = le1.transform(df2[\"word1\"])\n",
    "df2[\"word2\"] = le1.transform(df2[\"word2\"])\n",
    "df2[\"word3\"] = le1.transform(df2[\"word3\"])\n",
    "df2[\"word4\"] = le1.transform(df2[\"word4\"])\n",
    "df2[\"word5\"] = le1.transform(df2[\"word5\"])\n",
    "df2[\"Tag\"] = le2.transform(df2[\"Tag\"])\n",
    "df2"
   ]
  },
  {
   "cell_type": "code",
   "execution_count": 11,
   "id": "2f1830b8-8e4f-42a9-bf01-9ceca48cf13e",
   "metadata": {},
   "outputs": [
    {
     "data": {
      "text/plain": [
       "Index(['tries1', 'word1', 'word2', 'word3', 'word4', 'word5', 'Tag', 'month',\n",
       "       'day'],\n",
       "      dtype='object')"
      ]
     },
     "execution_count": 11,
     "metadata": {},
     "output_type": "execute_result"
    }
   ],
   "source": [
    "df2.columns"
   ]
  },
  {
   "cell_type": "code",
   "execution_count": 12,
   "id": "8f77c2c8-e3ff-43c8-9292-ee943d9d07fb",
   "metadata": {},
   "outputs": [
    {
     "name": "stdout",
     "output_type": "stream",
     "text": [
      "X_train.shape : (269, 8)\n",
      "X_val.shape : (90, 8)\n",
      "     word1  word2  word3  word4  word5  Tag  month  day\n",
      "211      0     11      8      4     13    1      8    6\n",
      "318      0     23      8     14     12    1     11   21\n",
      "346     18     11      0     19      4    1     12   19\n",
      "192      5     11     14      2     10    1      7   18\n",
      "270      1     14     20      6      7    2     10    4\n"
     ]
    },
    {
     "data": {
      "text/html": [
       "<div>\n",
       "<style scoped>\n",
       "    .dataframe tbody tr th:only-of-type {\n",
       "        vertical-align: middle;\n",
       "    }\n",
       "\n",
       "    .dataframe tbody tr th {\n",
       "        vertical-align: top;\n",
       "    }\n",
       "\n",
       "    .dataframe thead th {\n",
       "        text-align: right;\n",
       "    }\n",
       "</style>\n",
       "<table border=\"1\" class=\"dataframe\">\n",
       "  <thead>\n",
       "    <tr style=\"text-align: right;\">\n",
       "      <th></th>\n",
       "      <th>word1</th>\n",
       "      <th>word2</th>\n",
       "      <th>word3</th>\n",
       "      <th>word4</th>\n",
       "      <th>word5</th>\n",
       "      <th>Tag</th>\n",
       "      <th>month</th>\n",
       "      <th>day</th>\n",
       "    </tr>\n",
       "  </thead>\n",
       "  <tbody>\n",
       "    <tr>\n",
       "      <th>211</th>\n",
       "      <td>0</td>\n",
       "      <td>11</td>\n",
       "      <td>8</td>\n",
       "      <td>4</td>\n",
       "      <td>13</td>\n",
       "      <td>1</td>\n",
       "      <td>8</td>\n",
       "      <td>6</td>\n",
       "    </tr>\n",
       "    <tr>\n",
       "      <th>318</th>\n",
       "      <td>0</td>\n",
       "      <td>23</td>\n",
       "      <td>8</td>\n",
       "      <td>14</td>\n",
       "      <td>12</td>\n",
       "      <td>1</td>\n",
       "      <td>11</td>\n",
       "      <td>21</td>\n",
       "    </tr>\n",
       "    <tr>\n",
       "      <th>346</th>\n",
       "      <td>18</td>\n",
       "      <td>11</td>\n",
       "      <td>0</td>\n",
       "      <td>19</td>\n",
       "      <td>4</td>\n",
       "      <td>1</td>\n",
       "      <td>12</td>\n",
       "      <td>19</td>\n",
       "    </tr>\n",
       "    <tr>\n",
       "      <th>192</th>\n",
       "      <td>5</td>\n",
       "      <td>11</td>\n",
       "      <td>14</td>\n",
       "      <td>2</td>\n",
       "      <td>10</td>\n",
       "      <td>1</td>\n",
       "      <td>7</td>\n",
       "      <td>18</td>\n",
       "    </tr>\n",
       "    <tr>\n",
       "      <th>270</th>\n",
       "      <td>1</td>\n",
       "      <td>14</td>\n",
       "      <td>20</td>\n",
       "      <td>6</td>\n",
       "      <td>7</td>\n",
       "      <td>2</td>\n",
       "      <td>10</td>\n",
       "      <td>4</td>\n",
       "    </tr>\n",
       "  </tbody>\n",
       "</table>\n",
       "</div>"
      ],
      "text/plain": [
       "     word1  word2  word3  word4  word5  Tag  month  day\n",
       "211      0     11      8      4     13    1      8    6\n",
       "318      0     23      8     14     12    1     11   21\n",
       "346     18     11      0     19      4    1     12   19\n",
       "192      5     11     14      2     10    1      7   18\n",
       "270      1     14     20      6      7    2     10    4"
      ]
     },
     "execution_count": 12,
     "metadata": {},
     "output_type": "execute_result"
    }
   ],
   "source": [
    "## 数据切分为训练集和验证集\n",
    "\n",
    "# 定于预测目标变量名\n",
    "Target = [\"tries1\"]\n",
    "## 定义模型的自变量名\n",
    "train_x = ['word1', 'word2', 'word3', 'word4', 'word5', 'Tag', 'month','day']\n",
    "\n",
    "##将训练集切分为训练集和验证集\n",
    "X_train,X_val,y_train,y_val = train_test_split(df2[train_x], df2[Target],\n",
    "                                               test_size = 0.25,random_state = 1)\n",
    "print(\"X_train.shape :\",X_train.shape)\n",
    "print(\"X_val.shape :\",X_val.shape)\n",
    "print(X_train.head())\n",
    "X_train.head()"
   ]
  },
  {
   "cell_type": "code",
   "execution_count": 13,
   "id": "f282f6f7-dc4b-4424-9e67-665f7192aeb7",
   "metadata": {},
   "outputs": [
    {
     "data": {
      "text/plain": [
       "[('eerie', 'NN')]"
      ]
     },
     "execution_count": 13,
     "metadata": {},
     "output_type": "execute_result"
    }
   ],
   "source": [
    "nltk.pos_tag([\"eerie\"])"
   ]
  },
  {
   "cell_type": "code",
   "execution_count": 14,
   "id": "5906051f-6e3b-4bd7-8222-3e90fa7a90b8",
   "metadata": {},
   "outputs": [
    {
     "data": {
      "text/html": [
       "<div>\n",
       "<style scoped>\n",
       "    .dataframe tbody tr th:only-of-type {\n",
       "        vertical-align: middle;\n",
       "    }\n",
       "\n",
       "    .dataframe tbody tr th {\n",
       "        vertical-align: top;\n",
       "    }\n",
       "\n",
       "    .dataframe thead th {\n",
       "        text-align: right;\n",
       "    }\n",
       "</style>\n",
       "<table border=\"1\" class=\"dataframe\">\n",
       "  <thead>\n",
       "    <tr style=\"text-align: right;\">\n",
       "      <th></th>\n",
       "      <th>word1</th>\n",
       "      <th>word2</th>\n",
       "      <th>word3</th>\n",
       "      <th>word4</th>\n",
       "      <th>word5</th>\n",
       "      <th>Tag</th>\n",
       "      <th>month</th>\n",
       "      <th>day</th>\n",
       "    </tr>\n",
       "  </thead>\n",
       "  <tbody>\n",
       "    <tr>\n",
       "      <th>0</th>\n",
       "      <td>4</td>\n",
       "      <td>4</td>\n",
       "      <td>17</td>\n",
       "      <td>8</td>\n",
       "      <td>4</td>\n",
       "      <td>1</td>\n",
       "      <td>3</td>\n",
       "      <td>1</td>\n",
       "    </tr>\n",
       "  </tbody>\n",
       "</table>\n",
       "</div>"
      ],
      "text/plain": [
       "   word1  word2  word3  word4  word5  Tag  month  day\n",
       "0      4      4     17      8      4    1      3    1"
      ]
     },
     "execution_count": 14,
     "metadata": {},
     "output_type": "execute_result"
    }
   ],
   "source": [
    "## 准备带预测数据  2023年3月1日EERIE单词预测\n",
    "X_test = pd.DataFrame(data={\"word1\":le1.transform([\"e\"]),\n",
    "                            \"word2\":le1.transform([\"e\"]),\n",
    "                            \"word3\":le1.transform([\"r\"]),\n",
    "                            \"word4\":le1.transform([\"i\"]),\n",
    "                            \"word5\":le1.transform([\"e\"]),\n",
    "                            \"Tag\":le2.transform([\"NN\"]),\n",
    "                            \"month\":3,\"day\":1})\n",
    "X_test"
   ]
  },
  {
   "cell_type": "markdown",
   "id": "b8c339af-f0bb-48be-ae89-2908239c1385",
   "metadata": {},
   "source": [
    "## 决策树预测模型 （数据回归模型）"
   ]
  },
  {
   "cell_type": "code",
   "execution_count": 15,
   "id": "fd3b61bd-1322-4d8f-985c-192cdce3fbbf",
   "metadata": {},
   "outputs": [
    {
     "name": "stdout",
     "output_type": "stream",
     "text": [
      "训练数据集上的绝对值误差: 0.0\n",
      "验证数据集上的绝对值误差: 0.6555555555555556\n"
     ]
    }
   ],
   "source": [
    "## 先使用默认的参数建立一个决策树回归\n",
    "dtc1 = DecisionTreeRegressor(random_state=1)\n",
    "## 使用训练数据进行训练\n",
    "dtc1 = dtc1.fit(X_train, y_train)\n",
    "## 输出其在训练数据和验证数据集上的预测精度\n",
    "dtc1_lab = np.round(dtc1.predict(X_train))\n",
    "dtc1_pre = np.round(dtc1.predict(X_val))\n",
    "print(\"训练数据集上的绝对值误差:\",mean_absolute_error(y_train,dtc1_lab))\n",
    "print(\"验证数据集上的绝对值误差:\",mean_absolute_error(y_val,dtc1_pre))\n",
    "\n",
    "## 训练机上预测全部正确，但是验证集上预测绝对值误差为0.65\n"
   ]
  },
  {
   "cell_type": "code",
   "execution_count": 16,
   "id": "4eac65f3-f865-46ea-9a32-34c470588f30",
   "metadata": {},
   "outputs": [
    {
     "name": "stdout",
     "output_type": "stream",
     "text": [
      "训练数据集上的绝对值误差: 0.2825278810408922\n",
      "验证数据集上的绝对值误差: 0.35555555555555557\n"
     ]
    }
   ],
   "source": [
    "## 对模型进行优化\n",
    "## 使用较合适的参数建立决策树回归\n",
    "dtc2 = DecisionTreeRegressor(max_depth=3, ## 最大深度\n",
    "                              random_state=1)\n",
    "dtc2 = dtc2.fit(X_train,y_train)\n",
    "## 输出其在训练数据和验证数据集上的预测精度\n",
    "dtc2_lab = np.round(dtc2.predict(X_train))\n",
    "dtc2_pre = np.round(dtc2.predict(X_val))\n",
    "print(\"训练数据集上的绝对值误差:\",mean_absolute_error(y_train,dtc2_lab))\n",
    "print(\"验证数据集上的绝对值误差:\",mean_absolute_error(y_val,dtc2_pre))"
   ]
  },
  {
   "cell_type": "code",
   "execution_count": 17,
   "id": "a8cb8f09-3c08-4e4f-99df-581d14391a71",
   "metadata": {},
   "outputs": [
    {
     "data": {
      "image/png": "[encoded data removed]",
      "text/plain": [
       "<IPython.core.display.Image object>"
      ]
     },
     "execution_count": 17,
     "metadata": {},
     "output_type": "execute_result"
    }
   ],
   "source": [
    "## 可视化决策树模型\n",
    "dot_data = StringIO()\n",
    "export_graphviz(dtc2, out_file=dot_data,\n",
    "                feature_names=X_train.columns,\n",
    "                filled=True, rounded=True,special_characters=True)\n",
    "graph = pydotplus.graph_from_dot_data(dot_data.getvalue())  \n",
    "Image(graph.create_png())"
   ]
  },
  {
   "cell_type": "code",
   "execution_count": 18,
   "id": "eefcdd6c-044a-41a3-b80e-7540e7703898",
   "metadata": {},
   "outputs": [
    {
     "name": "stdout",
     "output_type": "stream",
     "text": [
      "训练数据集上的绝对值误差: 0.30362116991643456\n",
      "预测结果: [2.]\n"
     ]
    }
   ],
   "source": [
    "## 使用深度为3的决策树模型，使用全部的数据重新训练模型，并且对待预测的数据进行预测\n",
    "dtc3 = DecisionTreeRegressor(max_depth=3, ## 最大深度\n",
    "                              random_state=1)\n",
    "dtc3 = dtc3.fit(df2[train_x], df2[Target])\n",
    "## 输出其在训练数据上的预测精度\n",
    "dtc3_lab = np.round(dtc3.predict(df2[train_x]))\n",
    "dtc3_pre = np.round(dtc3.predict(X_test))\n",
    "print(\"训练数据集上的绝对值误差:\",mean_absolute_error(df2[Target],dtc3_lab))\n",
    "print(\"预测结果:\",dtc3_pre)  # 误差并不是很高"
   ]
  },
  {
   "cell_type": "markdown",
   "id": "d1313c98-3a00-403f-a180-5a98975adffd",
   "metadata": {},
   "source": [
    "## 试试随机森林回归模型"
   ]
  },
  {
   "cell_type": "code",
   "execution_count": 19,
   "id": "a03123e3-cd7f-4bf5-b5df-8003e1ba0ac1",
   "metadata": {},
   "outputs": [
    {
     "name": "stdout",
     "output_type": "stream",
     "text": [
      "随机森林的OOB score: 0.0949090675773615\n",
      "训练数据集上的绝对值误差: 0.2862453531598513\n",
      "验证数据集上的绝对值误差: 0.3\n"
     ]
    }
   ],
   "source": [
    "## 使用随机森林对泰坦尼克数据进行分类\n",
    "rfc1 = RandomForestRegressor(n_estimators = 500, # 树的数量\n",
    "                              max_depth= 2,       # 子树最大深度\n",
    "                              oob_score=True, \n",
    "                              random_state=1)\n",
    "rfc1.fit(X_train,y_train)\n",
    "## 输出其在训练数据和验证数据集上的预测精度\n",
    "rfc1_lab = np.round(rfc1.predict(X_train))\n",
    "rfc1_pre = np.round(rfc1.predict(X_val))\n",
    "print(\"随机森林的OOB score:\",rfc1.oob_score_)\n",
    "print(\"训练数据集上的绝对值误差:\",mean_absolute_error(y_train,rfc1_lab))\n",
    "print(\"验证数据集上的绝对值误差:\",mean_absolute_error(y_val,rfc1_pre))\n",
    "\n",
    "## 验证集上预测绝对值误差为0.3\n"
   ]
  },
  {
   "cell_type": "code",
   "execution_count": 20,
   "id": "fce9e1bd-60ce-4403-a1d3-019832fe4b13",
   "metadata": {},
   "outputs": [
    {
     "name": "stdout",
     "output_type": "stream",
     "text": [
      "训练数据集上的绝对值误差: 0.298050139275766\n",
      "预测结果: [1.]\n"
     ]
    }
   ],
   "source": [
    "## 使用随机森林模型，使用全部的数据重新训练模型，并且对待预测的数据进行预测\n",
    "rfc3 = RandomForestRegressor(n_estimators = 500, # 树的数量\n",
    "                              max_depth= 2,       # 子树最大深度\n",
    "                              oob_score=True, \n",
    "                              random_state=1)\n",
    "rfc3 = rfc3.fit(df2[train_x], df2[Target])\n",
    "## 输出其在训练数据上的预测精度\n",
    "rfc3_lab = np.round(rfc3.predict(df2[train_x]))\n",
    "rfc3_pre = np.round(rfc3.predict(X_test))\n",
    "print(\"训练数据集上的绝对值误差:\",mean_absolute_error(df2[Target],rfc3_lab))\n",
    "print(\"预测结果:\",rfc3_pre)  # 误差并不是很高\n",
    "\n",
    "## 预测结果和决策树模型一致"
   ]
  },
  {
   "cell_type": "markdown",
   "id": "2e22ec32-5c82-4a9b-ac37-9eeadde1ad35",
   "metadata": {
    "tags": []
   },
   "source": [
    "## 梯度提升树（GBDT）回归模型"
   ]
  },
  {
   "cell_type": "code",
   "execution_count": 21,
   "id": "6d83a6f3-879f-4789-b248-996a2a315a43",
   "metadata": {},
   "outputs": [
    {
     "name": "stdout",
     "output_type": "stream",
     "text": [
      "训练数据集上的绝对值误差: 0.2788104089219331\n",
      "验证数据集上的绝对值误差: 0.37777777777777777\n"
     ]
    }
   ],
   "source": [
    "## 使用参数网格搜索寻找合适的GBDT参数用于模型的建立\n",
    "gbdt1 = GradientBoostingRegressor(random_state=1,\n",
    "                                 n_estimators = 50,\n",
    "                                 max_depth = 3,learning_rate=0.01,\n",
    "                                ) ## 定义模型\n",
    "gbdt1.fit(X_train,y_train)\n",
    "## 输出其在训练数据和验证数据集上的预测精度\n",
    "gbdt1_lab = np.round(gbdt1.predict(X_train))\n",
    "gbdt1_pre = np.round(gbdt1.predict(X_val))\n",
    "print(\"训练数据集上的绝对值误差:\",mean_absolute_error(y_train,gbdt1_lab))\n",
    "print(\"验证数据集上的绝对值误差:\",mean_absolute_error(y_val,gbdt1_pre))\n",
    "\n",
    "## 验证集上预测绝对值误差为0.377,效果并没有比随机森林好一些"
   ]
  },
  {
   "cell_type": "markdown",
   "id": "a2795788-266a-43b3-9e7d-fabd22e7d425",
   "metadata": {},
   "source": [
    "## 尝试支持向量机回归模型"
   ]
  },
  {
   "cell_type": "code",
   "execution_count": 22,
   "id": "ed78bd73-c3c5-4de0-87df-26ea7f8c8bc2",
   "metadata": {},
   "outputs": [
    {
     "name": "stdout",
     "output_type": "stream",
     "text": [
      "训练数据集上的绝对值误差: 0.29739776951672864\n",
      "验证数据集上的绝对值误差: 0.28888888888888886\n"
     ]
    }
   ],
   "source": [
    "## 建立一个rbf核支持向量机回归模型，探索回归模型的效果\n",
    "rbfsvr = SVR(kernel = \"poly\",degree=1)\n",
    "rbfsvr.fit(X_train,y_train)\n",
    "## 输出其在训练数据和验证数据集上的预测精度\n",
    "rbfsvr_lab = np.round(rbfsvr.predict(X_train))\n",
    "rbfsvr_pre = np.round(rbfsvr.predict(X_val))\n",
    "print(\"训练数据集上的绝对值误差:\",mean_absolute_error(y_train,rbfsvr_lab))\n",
    "print(\"验证数据集上的绝对值误差:\",mean_absolute_error(y_val,rbfsvr_pre))\n",
    "\n",
    "## 验证集上预测绝对值误差为0.288,效果比随机森林好一些\n"
   ]
  },
  {
   "cell_type": "code",
   "execution_count": 23,
   "id": "eaac0947-d400-4b19-ba94-ad7a9d78453f",
   "metadata": {},
   "outputs": [
    {
     "name": "stdout",
     "output_type": "stream",
     "text": [
      "训练数据集上的绝对值误差: 0.30362116991643456\n",
      "预测结果: [2.]\n"
     ]
    }
   ],
   "source": [
    "## 使用支持向量机回归模型,使用全部的数据重新训练模型，并且对待预测的数据进行预测\n",
    "rbfsvr = SVR(kernel = \"poly\",degree=1)\n",
    "rbfsvr = dtc2.fit(df2[train_x], df2[Target])\n",
    "## 输出其在训练数据上的预测精度\n",
    "rbfsvr_lab = np.round(rbfsvr.predict(df2[train_x]))\n",
    "rbfsvr_pre = np.round(rbfsvr.predict(X_test))\n",
    "print(\"训练数据集上的绝对值误差:\",mean_absolute_error(df2[Target],rbfsvr_lab))\n",
    "print(\"预测结果:\",rbfsvr_pre)  # 误差并不是很高\n",
    "\n",
    "## 预测结果和决策树模型一致,误差和随机森林差不多"
   ]
  },
  {
   "cell_type": "markdown",
   "id": "8625b2d2-f693-4e16-844c-2939366c6688",
   "metadata": {},
   "source": [
    "## 尝试全联接神经网络回归"
   ]
  },
  {
   "cell_type": "code",
   "execution_count": 24,
   "id": "58b63cd1-df43-4986-a388-a9472ecbd5bc",
   "metadata": {},
   "outputs": [
    {
     "name": "stdout",
     "output_type": "stream",
     "text": [
      "训练数据集上的绝对值误差: 0.01486988847583643\n",
      "验证数据集上的绝对值误差: 0.6444444444444445\n"
     ]
    }
   ],
   "source": [
    "## 使用未标准化的数据,利用MLP进行回归分析\n",
    "mlpr1 = MLPRegressor(hidden_layer_sizes = (100,100),\n",
    "                     activation = \"relu\",batch_size = 32,\n",
    "                     learning_rate = \"adaptive\",random_state = 1,\n",
    "                     max_iter = 2000)\n",
    "mlpr1.fit(X_train,y_train)\n",
    "## 输出其在训练数据和验证数据集上的预测精度\n",
    "mlpr1_lab = np.round(mlpr1.predict(X_train))\n",
    "mlpr1_pre = np.round(mlpr1.predict(X_val))\n",
    "print(\"训练数据集上的绝对值误差:\",mean_absolute_error(y_train,mlpr1_lab))\n",
    "print(\"验证数据集上的绝对值误差:\",mean_absolute_error(y_val,mlpr1_pre))\n",
    "\n",
    "## 神经网络回归的预测效果并不好\n"
   ]
  },
  {
   "cell_type": "code",
   "execution_count": null,
   "id": "862d2834-b543-4c23-b3a4-a2cfe42a8d5c",
   "metadata": {},
   "outputs": [],
   "source": []
  },
  {
   "cell_type": "code",
   "execution_count": null,
   "id": "44235e60",
   "metadata": {},
   "outputs": [],
   "source": []
  }
 ],
 "metadata": {
  "kernelspec": {
   "display_name": "Python 3 (ipykernel)",
   "language": "python",
   "name": "python3"
  },
  "language_info": {
   "codemirror_mode": {
    "name": "ipython",
    "version": 3
   },
   "file_extension": ".py",
   "mimetype": "text/x-python",
   "name": "python",
   "nbconvert_exporter": "python",
   "pygments_lexer": "ipython3",
   "version": "3.10.9"
  }
 },
 "nbformat": 4,
 "nbformat_minor": 5
}
